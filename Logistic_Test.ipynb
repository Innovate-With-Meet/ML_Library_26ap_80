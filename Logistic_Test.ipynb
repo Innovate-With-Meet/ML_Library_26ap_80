{
 "cells": [
  {
   "cell_type": "code",
   "execution_count": null,
   "id": "f992a91f",
   "metadata": {},
   "outputs": [],
   "source": [
    "# problem define + gathering data + preprocessing data + fetures engineering + train model + model evaluation \n",
    "# predict the outcome"
   ]
  },
  {
   "cell_type": "code",
   "execution_count": 1,
   "id": "1a2c1096",
   "metadata": {},
   "outputs": [],
   "source": [
    "import pandas as pd\n",
    "import numpy as np\n",
    "import matplotlib.pyplot as plt\n",
    "from sklearn.linear_model import LinearRegression\n",
    "from sklearn.model_selection import train_test_split\n",
    "# You're working for a logistics company that wants to predict the delivery time (in hours) for packages based on the distance the package travels and the weight of the package.\n",
    "\n",
    "# ✅ Objective:\n",
    "# Build a Linear Regression model to predict delivery time using:\n",
    "\n",
    "# 📍 Distance (in kilometers)\n",
    "\n",
    "# ⚖️ Weight (in kilograms)\n",
    "\n",
    "# 🧾 Sample Dataset:\n",
    "# Distance (km)\tWeight (kg)\tDelivery Time (hrs)\n",
    "# 10\t2\t1.2\n",
    "# 25\t5\t2.5\n",
    "# 40\t4\t3.0\n",
    "# 15\t3\t1.5\n",
    "# 30\t6\t3.2\n",
    "\n",
    "# 🔧 Tasks:\n",
    "# Create the dataset manually in your code using pandas or numpy.\n",
    "\n",
    "# Split the data into training and testing sets.\n",
    "\n",
    "# Train a Linear Regression model.\n",
    "\n",
    "# Evaluate the model using Mean Squared Error and R² Score.\n",
    "\n",
    "# Predict delivery time for a new package:\n",
    "\n",
    "# Distance = 20 km\n",
    "\n",
    "# Weight = 3.5 kg\n",
    "\n"
   ]
  },
  {
   "cell_type": "markdown",
   "id": "0325c41f",
   "metadata": {},
   "source": []
  },
  {
   "cell_type": "code",
   "execution_count": 4,
   "id": "532cfa7a",
   "metadata": {},
   "outputs": [],
   "source": [
    "data = {\n",
    "    'Km' : [10,25, 40,15,30],\n",
    "    'Kg' : [2,5,4,3,6],\n",
    "    'hr' : [1.2,2.5,3.0,1.5,3.2]\n",
    "}"
   ]
  },
  {
   "cell_type": "code",
   "execution_count": 19,
   "id": "554671e8",
   "metadata": {},
   "outputs": [
    {
     "name": "stderr",
     "output_type": "stream",
     "text": [
      "c:\\Users\\admin\\AppData\\Local\\Programs\\Python\\Python312\\Lib\\site-packages\\sklearn\\utils\\validation.py:2739: UserWarning: X does not have valid feature names, but LinearRegression was fitted with feature names\n",
      "  warnings.warn(\n"
     ]
    },
    {
     "data": {
      "text/plain": [
       "array([[1.68846154]])"
      ]
     },
     "execution_count": 19,
     "metadata": {},
     "output_type": "execute_result"
    }
   ],
   "source": [
    "df = pd.DataFrame(data)\n",
    "# feature engineering\n",
    "x = df[[\"Km\", \"Kg\"]]\n",
    "y = df[[\"hr\"]]\n",
    "\n",
    "# split \n",
    "\n",
    "x_train, x_test, y_train, y_test = train_test_split(x,y, test_size=0.2, random_state=42)\n",
    "model = LinearRegression()\n",
    "model.fit(x_train,y_train)\n",
    "\n",
    "new_data = np.array([[20,2.5]])\n",
    "predict = model.predict(new_data)\n",
    "predict"
   ]
  }
 ],
 "metadata": {
  "kernelspec": {
   "display_name": "Python 3",
   "language": "python",
   "name": "python3"
  },
  "language_info": {
   "codemirror_mode": {
    "name": "ipython",
    "version": 3
   },
   "file_extension": ".py",
   "mimetype": "text/x-python",
   "name": "python",
   "nbconvert_exporter": "python",
   "pygments_lexer": "ipython3",
   "version": "3.12.3"
  }
 },
 "nbformat": 4,
 "nbformat_minor": 5
}
